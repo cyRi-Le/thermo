{
 "cells": [
  {
   "cell_type": "code",
   "execution_count": 1,
   "metadata": {},
   "outputs": [
    {
     "name": "stderr",
     "output_type": "stream",
     "text": [
      "In C:\\Users\\antoine\\Miniconda3\\lib\\site-packages\\matplotlib\\mpl-data\\stylelib\\_classic_test.mplstyle: \n",
      "The text.latex.preview rcparam was deprecated in Matplotlib 3.3 and will be removed two minor releases later.\n",
      "In C:\\Users\\antoine\\Miniconda3\\lib\\site-packages\\matplotlib\\mpl-data\\stylelib\\_classic_test.mplstyle: \n",
      "The mathtext.fallback_to_cm rcparam was deprecated in Matplotlib 3.3 and will be removed two minor releases later.\n",
      "In C:\\Users\\antoine\\Miniconda3\\lib\\site-packages\\matplotlib\\mpl-data\\stylelib\\_classic_test.mplstyle: Support for setting the 'mathtext.fallback_to_cm' rcParam is deprecated since 3.3 and will be removed two minor releases later; use 'mathtext.fallback : 'cm' instead.\n",
      "In C:\\Users\\antoine\\Miniconda3\\lib\\site-packages\\matplotlib\\mpl-data\\stylelib\\_classic_test.mplstyle: \n",
      "The validate_bool_maybe_none function was deprecated in Matplotlib 3.3 and will be removed two minor releases later.\n",
      "In C:\\Users\\antoine\\Miniconda3\\lib\\site-packages\\matplotlib\\mpl-data\\stylelib\\_classic_test.mplstyle: \n",
      "The savefig.jpeg_quality rcparam was deprecated in Matplotlib 3.3 and will be removed two minor releases later.\n",
      "In C:\\Users\\antoine\\Miniconda3\\lib\\site-packages\\matplotlib\\mpl-data\\stylelib\\_classic_test.mplstyle: \n",
      "The keymap.all_axes rcparam was deprecated in Matplotlib 3.3 and will be removed two minor releases later.\n",
      "In C:\\Users\\antoine\\Miniconda3\\lib\\site-packages\\matplotlib\\mpl-data\\stylelib\\_classic_test.mplstyle: \n",
      "The animation.avconv_path rcparam was deprecated in Matplotlib 3.3 and will be removed two minor releases later.\n",
      "In C:\\Users\\antoine\\Miniconda3\\lib\\site-packages\\matplotlib\\mpl-data\\stylelib\\_classic_test.mplstyle: \n",
      "The animation.avconv_args rcparam was deprecated in Matplotlib 3.3 and will be removed two minor releases later.\n"
     ]
    }
   ],
   "source": [
    "import numpy as np\n",
    "from numpy import exp\n",
    "from scipy.special import jn_zeros, j0, j1\n",
    "import matplotlib.pyplot as plt\n",
    "import fipy as fp\n",
    "from mpl_toolkits.mplot3d import Axes3D"
   ]
  },
  {
   "cell_type": "markdown",
   "metadata": {},
   "source": [
    "Équation de la chaleur \n",
    "\\begin{equation}\n",
    "\\rho C \\frac{\\partial T}{\\partial t}=\\lambda \\frac{\\partial^2T}{\\partial x^2}\n",
    "\\end{equation}\n",
    "on suppose que le spagheetti est entierement dans l'eau bouyanthe"
   ]
  },
  {
   "cell_type": "code",
   "execution_count": 12,
   "metadata": {},
   "outputs": [],
   "source": [
    "#constantes\n",
    "global a\n",
    "global D\n",
    "global Nterm\n",
    "Ti=20#°C initiale de la spaghetti\n",
    "Tc=70#°C cuisson de la spaghetti\n",
    "Te=100#°C eau choode\n",
    "Lp=250#longueur d'une pate\n",
    "a=.01#rayon d'une patte\n",
    "h=21#J/K/kg\n",
    "c=2.9#j/kg/K\n",
    "lambdaa= 0.16#W/m/K\n",
    "#1m3=10**6cm3\n",
    "rho=0.75*10**(3)#masse volumique kg/m3\n",
    "#Blé 305 14,7 0,16 Masse volumique : 0,75 g/cm3 ; [35]\n",
    "Nterm = 20\n",
    "#pour fipy\n",
    "D=lambdaa/(rho*c)"
   ]
  },
  {
   "cell_type": "code",
   "execution_count": 13,
   "metadata": {},
   "outputs": [],
   "source": [
    "def crank522(r, t):\n",
    "    '''evaluate eqn 5.22 for a given r,t\n",
    "\n",
    "    the following global variables need to be set\n",
    "    a : radius of cylinder\n",
    "    D : diffusion coefficient\n",
    "    Nterm : number of terms to be evaluated\n",
    "    '''\n",
    "    aalp = jn_zeros(0,Nterm)\n",
    "    alpha = aalp/a\n",
    "\n",
    "    XJ0 = exp(-D * alpha**2 * t) * j0(r*alpha)\n",
    "    AJ1 = alpha * j1(aalp)\n",
    "\n",
    "    S = np.sum(XJ0/AJ1)\n",
    "    T=Te-(Te-Ti)*2*S/a\n",
    "    return T"
   ]
  },
  {
   "cell_type": "code",
   "execution_count": 16,
   "metadata": {},
   "outputs": [
    {
     "data": {
      "image/png": "[encoded data removed]",
      "text/plain": [
       "<Figure size 432x288 with 1 Axes>"
      ]
     },
     "metadata": {
      "needs_background": "light"
     },
     "output_type": "display_data"
    },
    {
     "name": "stdout",
     "output_type": "stream",
     "text": [
      "0.34000000000000014 0.01\n"
     ]
    }
   ],
   "source": [
    "# create radial axis\n",
    "r = np.linspace(0.,a,200)\n",
    "# evaluate crank522 at different points in time, and plot\n",
    "t=0\n",
    "dt=.01\n",
    "c = np.array([crank522(rr,t) for rr in r])\n",
    "temp=[]\n",
    "Temp=[]\n",
    "while c[Nterm]<Tc:\n",
    "    Temp.append(c[Nterm])\n",
    "    temp.append(t)\n",
    "    t+=dt\n",
    "    c = np.array([crank522(rr,t) for rr in r])\n",
    "plt.plot(temp[1::],Temp[1::])\n",
    "plt.xlabel('temps (s)')\n",
    "plt.ylabel('temperature au centre')\n",
    "plt.title('solution analytique')\n",
    "plt.show()\n",
    "print(t,r[-1])"
   ]
  },
  {
   "cell_type": "markdown",
   "metadata": {},
   "source": [
    "## Finite-volume solution with Fipy."
   ]
  },
  {
   "cell_type": "markdown",
   "metadata": {},
   "source": [
    "Define 1D cylindrical grid with a variable called 'c', initialized to an initial value of 20.0 everywhere."
   ]
  },
  {
   "cell_type": "code",
   "execution_count": 44,
   "metadata": {},
   "outputs": [],
   "source": [
    "nr=50\n",
    "Lr=.01\n",
    "dr=Lr/nr\n",
    "mesh = fp.CylindricalGrid1D(nr = nr, dr=dr)"
   ]
  },
  {
   "cell_type": "code",
   "execution_count": 45,
   "metadata": {},
   "outputs": [],
   "source": [
    "c = fp.CellVariable(mesh = mesh, value = 20.0)"
   ]
  },
  {
   "cell_type": "markdown",
   "metadata": {},
   "source": [
    "Apply boundary condition: outer wall will be kept at 1.0. (Dirichlet boundary condition)."
   ]
  },
  {
   "cell_type": "code",
   "execution_count": 46,
   "metadata": {},
   "outputs": [],
   "source": [
    "c.constrain(100.0, mesh.facesRight)"
   ]
  },
  {
   "cell_type": "markdown",
   "metadata": {},
   "source": [
    "We should also define our partial differential equation! (With Fipy, this step comes last)."
   ]
  },
  {
   "cell_type": "code",
   "execution_count": 47,
   "metadata": {},
   "outputs": [],
   "source": [
    "eq = fp.TransientTerm(var=c) == fp.DiffusionTerm(var=c, coeff=D)"
   ]
  },
  {
   "cell_type": "markdown",
   "metadata": {},
   "source": [
    "Now, we solve the equation by taking time steps. We plot the solution at several specified time-points."
   ]
  },
  {
   "cell_type": "code",
   "execution_count": 48,
   "metadata": {},
   "outputs": [
    {
     "name": "stdout",
     "output_type": "stream",
     "text": [
      "20.0\n"
     ]
    },
    {
     "data": {
      "image/png": "[encoded data removed]",
      "text/plain": [
       "<Figure size 432x288 with 1 Axes>"
      ]
     },
     "metadata": {
      "needs_background": "light"
     },
     "output_type": "display_data"
    },
    {
     "name": "stdout",
     "output_type": "stream",
     "text": [
      "[0.01, 0.02, 0.03, 0.04, 0.05, 0.060000000000000005, 0.07, 0.08, 0.09, 0.09999999999999999, 0.10999999999999999, 0.11999999999999998, 0.12999999999999998, 0.13999999999999999, 0.15, 0.16, 0.17, 0.18000000000000002, 0.19000000000000003, 0.20000000000000004, 0.21000000000000005, 0.22000000000000006, 0.23000000000000007, 0.24000000000000007, 0.25000000000000006, 0.26000000000000006, 0.2700000000000001, 0.2800000000000001, 0.2900000000000001] [20.132272559011852, 20.586541102210948, 21.482473315379046, 22.83176966115709, 24.569885013272007, 26.601259652783042, 28.830613850282557, 31.177547593362473, 33.58019418024744, 35.99361903955492, 38.38647300333544, 40.737582691377824, 43.03309839076432, 45.26431583579383, 47.4260927572538, 49.515730017104126, 51.532193813311146, 53.4755796715385, 55.346744384486485, 57.1470532733756, 58.87820619010789, 60.54211720505753, 62.14083096236769, 63.67646418776573, 65.15116456106773, 66.56708167439744, 67.926346481421, 69.2310567736454, 70.4832669807278]\n"
     ]
    }
   ],
   "source": [
    "t=[]\n",
    "Temperature=[]\n",
    "to=0\n",
    "ddt=0.01\n",
    "while c.value[Nterm]<70:\n",
    "    c.mesh.cellCenters.value[0]\n",
    "    eq.solve(dt = ddt)\n",
    "    to+=ddt\n",
    "    t.append(to)\n",
    "    Temperature.append(c.value[Nterm])\n",
    "plt.plot(t,Temperature)\n",
    "plt.xlabel('temps(s)')\n",
    "plt.ylabel('temperature(°C)')\n",
    "plt.title('FVM (Fipy) solution')\n",
    "plt.show()"
   ]
  },
  {
   "cell_type": "markdown",
   "metadata": {},
   "source": [
    "## Implémentation de la concentration d'eau fonction du rayon et du temps.\n",
    "On verra ce qu'on fait de ca après.\\\n",
    "Faudrait en déduire la mass e volumique local (un truc du type) la capacité thermique\n",
    "et la conductivité pour en déduire la diffusion de la température correctement\\\n",
    "Pour le cylindre plein S3 (R=0.09 cm) temps de cuisson optimal (13min)"
   ]
  },
  {
   "cell_type": "markdown",
   "metadata": {},
   "source": [
    "\\begin{equation}\n",
    "\n",
    "\\end{equation} "
   ]
  },
  {
   "cell_type": "code",
   "execution_count": null,
   "metadata": {},
   "outputs": [],
   "source": [
    "#Initialisation\n",
    "C0=0 #g/g eau/semoule concentration\n",
    "s0=0 #inutile\n",
    "D0=4.3*10**(-7) #coefficient de diffusion initial (cm²/s)\n",
    "Gma=14.7 #variation du coeff de diffusion\n",
    "Cg=1.8 #Concentration critique? gelatinisation\n",
    "Cb=1.9 #un truc relatif a celui d'au dessus\n",
    "Bta=3.6*10**(-8)\n",
    "Lr=.1#rayon du domaine\n"
   ]
  },
  {
   "cell_type": "code",
   "execution_count": null,
   "metadata": {},
   "outputs": [],
   "source": [
    "%matplotlib notebook\n",
    "Tfin=10\n",
    "\n",
    "Tter=10**4\n",
    "Rter=10\n",
    "\n",
    "x=np.linspace(0,Lr,Rter+1)#Rayons\n",
    "dx=Lr/Rter\n",
    "\n",
    "temps=np.linspace(0,Tfin,Tter+1)\n",
    "dt=Tfin/Tter\n",
    "\n",
    "def Dfonc(C):\n",
    "    if C<Cg:\n",
    "        return(D0)\n",
    "    else:\n",
    "        return(Gma*D0)\n",
    "def Sfonc(C):\n",
    "    return Dfonc(C)*dt/dx**2\n",
    "\n",
    "\n",
    "C=np.zeros(Rter+1)\n",
    "# C=50*np.ones(Rter+1)\n",
    "# C[0]=0\n",
    "# C[-1]=100\n",
    "concentration=[]\n",
    "Lc=0\n",
    "for i in range(Tter):\n",
    "    concentration.append(C.copy())\n",
    "    Cd=C0+4*Sfonc(C0)*Lc\n",
    "    Cf=Cb+Bta*i*dt\n",
    "    C[-1]=Cf\n",
    "    C[0]=Cd\n",
    "    for j in range(1,Rter):\n",
    "        Cij=C[j]\n",
    "        if j==0:\n",
    "            dC=0\n",
    "        else:\n",
    "            dC=(C[j+1]-C[j-1])/(2*dx)\n",
    "        ddC=(C[j+1]-2*C[j]+C[j-1])/dx**2\n",
    "        m1=dC*(Dfonc(C[j+1])-Dfonc(C[j-1]))/dx\n",
    "        m2=Dfonc(Cij)*(Cij-dC*2+ddC)/dx**2#merse\n",
    "        m3=Dfonc(Cij)*dC/(j*dx)#merde\n",
    "        #print(C[j+1],Cij,C[j-1])\n",
    "        C[j]+=(m1+m2+m3)*dt\n",
    "        #C[j]+=dt*1e-5/dx**2*(C[j+1]+C[j-1]-2*C[j])\n",
    "    Lc=(C[1]-C[0])\n",
    "plt.plot(x,concentration[-1])\n",
    "plt.show()\n",
    "   "
   ]
  },
  {
   "cell_type": "markdown",
   "metadata": {},
   "source": [
    "## End.\n"
   ]
  }
 ],
 "metadata": {
  "kernelspec": {
   "display_name": "Python 3",
   "language": "python",
   "name": "python3"
  },
  "language_info": {
   "codemirror_mode": {
    "name": "ipython",
    "version": 3
   },
   "file_extension": ".py",
   "mimetype": "text/x-python",
   "name": "python",
   "nbconvert_exporter": "python",
   "pygments_lexer": "ipython3",
   "version": "3.7.8"
  }
 },
 "nbformat": 4,
 "nbformat_minor": 4
}
