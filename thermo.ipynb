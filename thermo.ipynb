{
 "cells": [
  {
   "cell_type": "code",
   "execution_count": 1,
   "metadata": {},
   "outputs": [
    {
     "name": "stderr",
     "output_type": "stream",
     "text": [
      "In C:\\Users\\antoine\\Miniconda3\\lib\\site-packages\\matplotlib\\mpl-data\\stylelib\\_classic_test.mplstyle: \n",
      "The text.latex.preview rcparam was deprecated in Matplotlib 3.3 and will be removed two minor releases later.\n",
      "In C:\\Users\\antoine\\Miniconda3\\lib\\site-packages\\matplotlib\\mpl-data\\stylelib\\_classic_test.mplstyle: \n",
      "The mathtext.fallback_to_cm rcparam was deprecated in Matplotlib 3.3 and will be removed two minor releases later.\n",
      "In C:\\Users\\antoine\\Miniconda3\\lib\\site-packages\\matplotlib\\mpl-data\\stylelib\\_classic_test.mplstyle: Support for setting the 'mathtext.fallback_to_cm' rcParam is deprecated since 3.3 and will be removed two minor releases later; use 'mathtext.fallback : 'cm' instead.\n",
      "In C:\\Users\\antoine\\Miniconda3\\lib\\site-packages\\matplotlib\\mpl-data\\stylelib\\_classic_test.mplstyle: \n",
      "The validate_bool_maybe_none function was deprecated in Matplotlib 3.3 and will be removed two minor releases later.\n",
      "In C:\\Users\\antoine\\Miniconda3\\lib\\site-packages\\matplotlib\\mpl-data\\stylelib\\_classic_test.mplstyle: \n",
      "The savefig.jpeg_quality rcparam was deprecated in Matplotlib 3.3 and will be removed two minor releases later.\n",
      "In C:\\Users\\antoine\\Miniconda3\\lib\\site-packages\\matplotlib\\mpl-data\\stylelib\\_classic_test.mplstyle: \n",
      "The keymap.all_axes rcparam was deprecated in Matplotlib 3.3 and will be removed two minor releases later.\n",
      "In C:\\Users\\antoine\\Miniconda3\\lib\\site-packages\\matplotlib\\mpl-data\\stylelib\\_classic_test.mplstyle: \n",
      "The animation.avconv_path rcparam was deprecated in Matplotlib 3.3 and will be removed two minor releases later.\n",
      "In C:\\Users\\antoine\\Miniconda3\\lib\\site-packages\\matplotlib\\mpl-data\\stylelib\\_classic_test.mplstyle: \n",
      "The animation.avconv_args rcparam was deprecated in Matplotlib 3.3 and will be removed two minor releases later.\n"
     ]
    }
   ],
   "source": [
    "import numpy as np\n",
    "from numpy import exp\n",
    "from scipy.special import jn_zeros, j0, j1\n",
    "import matplotlib.pyplot as plt\n",
    "import fipy as fp"
   ]
  },
  {
   "cell_type": "markdown",
   "metadata": {},
   "source": [
    "Équation de la chaleur \n",
    "\\begin{equation}\n",
    "\\rho C \\frac{\\partial T}{\\partial t}=\\lambda \\frac{\\partial^2T}{\\partial x^2}\n",
    "\\end{equation}"
   ]
  },
  {
   "cell_type": "code",
   "execution_count": 2,
   "metadata": {},
   "outputs": [],
   "source": [
    "#constantes\n",
    "global a\n",
    "global D\n",
    "global Nterm\n",
    "Ti=20#°C initiale de la spaghetti\n",
    "Tc=70#°C cuisson de la spaghetti\n",
    "Te=100#°C eau choode\n",
    "Lp=250#longueur d'une pate\n",
    "a=1#rayon d'une patte\n",
    "h=21#J/K/kg\n",
    "c=2.9#j/kg/K\n",
    "lambdaa= 0.16#W/m/K\n",
    "#1m3=10**6cm3\n",
    "rho=0.75*10**(3)#masse volumique kg/m3\n",
    "#Blé 305 14,7 0,16 Masse volumique : 0,75 g/cm3 ; [35]\n",
    "Nterm = 20\n",
    "#pour fipy\n",
    "dr=0.1#increment spacial\n",
    "nr=10#nombre de cellules?\n",
    "Lr=1#rayon du domaine\n",
    "D=lambdaa/(rho*c)"
   ]
  },
  {
   "cell_type": "code",
   "execution_count": 3,
   "metadata": {},
   "outputs": [],
   "source": [
    "def crank522(r, t):\n",
    "    '''evaluate eqn 5.22 for a given r,t\n",
    "\n",
    "    the following global variables need to be set\n",
    "    a : radius of cylinder\n",
    "    D : diffusion coefficient\n",
    "    Nterm : number of terms to be evaluated\n",
    "    '''\n",
    "    T0=100\n",
    "    T1=20\n",
    "    aalp = jn_zeros(0,Nterm)\n",
    "    alpha = aalp/a\n",
    "\n",
    "    XJ0 = exp(-D * alpha**2 * t) * j0(r*alpha)\n",
    "    AJ1 = alpha * j1(aalp)\n",
    "\n",
    "    S = np.sum(XJ0/AJ1)\n",
    "    T=T0-(T0-T1)*2*S/a\n",
    "    return T"
   ]
  },
  {
   "cell_type": "code",
   "execution_count": 4,
   "metadata": {},
   "outputs": [
    {
     "data": {
      "image/png": "[encoded data removed]",
      "text/plain": [
       "<Figure size 432x288 with 1 Axes>"
      ]
     },
     "metadata": {
      "needs_background": "light"
     },
     "output_type": "display_data"
    },
    {
     "name": "stdout",
     "output_type": "stream",
     "text": [
      "3380 70.05665429043304\n"
     ]
    }
   ],
   "source": [
    "# create radial axis\n",
    "r = np.linspace(0.,1.,200)\n",
    "# evaluate crank522 at different points in time, and plot\n",
    "t=0\n",
    "dt=20\n",
    "c = np.array([crank522(rr,t) for rr in r])\n",
    "while c[Nterm]<70:\n",
    "    t+=dt\n",
    "    c = np.array([crank522(rr,t) for rr in r])\n",
    "plt.plot(r,c)\n",
    "plt.xlabel('rel. radial position')\n",
    "plt.ylabel('rel. temperature')\n",
    "plt.title('analytic solution')\n",
    "plt.show()\n",
    "print(t,c[Nterm])"
   ]
  },
  {
   "cell_type": "code",
   "execution_count": null,
   "metadata": {},
   "outputs": [],
   "source": []
  },
  {
   "cell_type": "code",
   "execution_count": null,
   "metadata": {},
   "outputs": [],
   "source": []
  }
 ],
 "metadata": {
  "kernelspec": {
   "display_name": "Python 3",
   "language": "python",
   "name": "python3"
  },
  "language_info": {
   "codemirror_mode": {
    "name": "ipython",
    "version": 3
   },
   "file_extension": ".py",
   "mimetype": "text/x-python",
   "name": "python",
   "nbconvert_exporter": "python",
   "pygments_lexer": "ipython3",
   "version": "3.7.8"
  }
 },
 "nbformat": 4,
 "nbformat_minor": 4
}
